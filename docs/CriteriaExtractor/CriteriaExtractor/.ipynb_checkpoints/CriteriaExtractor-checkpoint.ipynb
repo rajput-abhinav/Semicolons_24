{
 "cells": [
  {
   "cell_type": "code",
   "execution_count": null,
   "id": "a97ae715",
   "metadata": {},
   "outputs": [],
   "source": [
    "!python -m spacy download en_core_web_lg"
   ]
  },
  {
   "cell_type": "code",
   "execution_count": 1,
   "id": "2d539dff",
   "metadata": {},
   "outputs": [],
   "source": [
    "import spacy\n",
    "from spacy.tokens import DocBin\n",
    "from tqdm import tqdm\n",
    "import json\n",
    "\n",
    "nlp = spacy.blank(\"en\")  # a new spacy model\n",
    "db = DocBin() # a new DocBin object"
   ]
  },
  {
   "cell_type": "code",
   "execution_count": 2,
   "id": "f253ce90",
   "metadata": {},
   "outputs": [],
   "source": [
    "annotFile = open(r'C:\\Users\\abhijat_thakare\\Desktop\\Semicolons\\CriteriaExtractor\\Resources\\annotations.json')\n",
    "TRAIN_DATA = json.load(annotFile)"
   ]
  },
  {
   "cell_type": "code",
   "execution_count": 4,
   "id": "9e8a4ec4",
   "metadata": {},
   "outputs": [
    {
     "name": "stderr",
     "output_type": "stream",
     "text": [
      "100%|██████████| 5/5 [00:00<00:00,  7.14it/s]\n"
     ]
    }
   ],
   "source": [
    "for text, annot in tqdm(TRAIN_DATA['annotations']): \n",
    "    doc = nlp.make_doc(text) \n",
    "    ents = []\n",
    "    for start, end, label in annot[\"entities\"]:\n",
    "        span = doc.char_span(start, end, label=label)\n",
    "        if span is None:\n",
    "            print(\"Skipping entity\")\n",
    "        else:\n",
    "            ents.append(span)\n",
    "    doc.ents = ents \n",
    "    db.add(doc)\n",
    "\n",
    "db.to_disk(\"./training_data.spacy\") # save the docbin object"
   ]
  },
  {
   "cell_type": "code",
   "execution_count": 5,
   "id": "5dffb0b1",
   "metadata": {},
   "outputs": [
    {
     "name": "stdout",
     "output_type": "stream",
     "text": [
      "\u001b[38;5;3m[!] To generate a more effective transformer-based config (GPU-only),\n",
      "install the spacy-transformers package and re-run this command. The config\n",
      "generated now does not use transformers.\u001b[0m\n",
      "\u001b[38;5;4m[i] Generated config template specific for your use case\u001b[0m\n",
      "- Language: en\n",
      "- Pipeline: ner\n",
      "- Optimize for: accuracy\n",
      "- Hardware: CPU\n",
      "- Transformer: None\n",
      "\u001b[38;5;2m[+] Auto-filled config with all values\u001b[0m\n",
      "\u001b[38;5;2m[+] Saved config\u001b[0m\n",
      "config.cfg\n",
      "You can now add your data and train your pipeline:\n",
      "python -m spacy train config.cfg --paths.train ./train.spacy --paths.dev ./dev.spacy\n"
     ]
    }
   ],
   "source": [
    "! python -m spacy init config config.cfg --lang en --pipeline ner --optimize accuracy"
   ]
  },
  {
   "cell_type": "code",
   "execution_count": 6,
   "id": "b387c71f",
   "metadata": {},
   "outputs": [
    {
     "name": "stdout",
     "output_type": "stream",
     "text": [
      "\u001b[38;5;4m[i] Saving to output directory: .\u001b[0m"
     ]
    },
    {
     "name": "stderr",
     "output_type": "stream",
     "text": [
      "[2023-02-23 23:14:52,476] [INFO] Set up nlp object from config\n",
      "[2023-02-23 23:14:52,501] [INFO] Pipeline: ['tok2vec', 'ner']\n",
      "[2023-02-23 23:14:52,509] [INFO] Created vocabulary\n",
      "Traceback (most recent call last):\n",
      "  File \"C:\\Users\\abhijat_thakare\\Anaconda3\\lib\\site-packages\\spacy\\language.py\", line 1286, in initialize\n",
      "    init_vocab(\n",
      "  File \"C:\\Users\\abhijat_thakare\\Anaconda3\\lib\\site-packages\\spacy\\training\\initialize.py\", line 131, in init_vocab\n",
      "    load_vectors_into_model(nlp, vectors)\n",
      "  File \"C:\\Users\\abhijat_thakare\\Anaconda3\\lib\\site-packages\\spacy\\training\\initialize.py\", line 152, in load_vectors_into_model\n",
      "    vectors_nlp = load_model(name, vocab=nlp.vocab, exclude=exclude)\n",
      "  File \"C:\\Users\\abhijat_thakare\\Anaconda3\\lib\\site-packages\\spacy\\util.py\", line 439, in load_model\n",
      "    raise IOError(Errors.E050.format(name=name))\n",
      "OSError: [E050] Can't find model 'en_core_web_lg'. It doesn't seem to be a Python package or a valid path to a data directory.\n",
      "\n",
      "During handling of the above exception, another exception occurred:\n",
      "\n",
      "Traceback (most recent call last):\n",
      "  File \"C:\\Users\\abhijat_thakare\\Anaconda3\\lib\\runpy.py\", line 197, in _run_module_as_main\n",
      "    return _run_code(code, main_globals, None,\n",
      "  File \"C:\\Users\\abhijat_thakare\\Anaconda3\\lib\\runpy.py\", line 87, in _run_code\n",
      "    exec(code, run_globals)\n",
      "  File \"C:\\Users\\abhijat_thakare\\Anaconda3\\lib\\site-packages\\spacy\\__main__.py\", line 4, in <module>\n",
      "    setup_cli()\n",
      "  File \"C:\\Users\\abhijat_thakare\\Anaconda3\\lib\\site-packages\\spacy\\cli\\_util.py\", line 74, in setup_cli\n",
      "    command(prog_name=COMMAND)\n",
      "  File \"C:\\Users\\abhijat_thakare\\Anaconda3\\lib\\site-packages\\click\\core.py\", line 1128, in __call__\n",
      "    return self.main(*args, **kwargs)\n",
      "  File \"C:\\Users\\abhijat_thakare\\Anaconda3\\lib\\site-packages\\typer\\core.py\", line 778, in main\n",
      "    return _main(\n",
      "  File \"C:\\Users\\abhijat_thakare\\Anaconda3\\lib\\site-packages\\typer\\core.py\", line 216, in _main\n",
      "    rv = self.invoke(ctx)\n",
      "  File \"C:\\Users\\abhijat_thakare\\Anaconda3\\lib\\site-packages\\click\\core.py\", line 1659, in invoke\n",
      "    return _process_result(sub_ctx.command.invoke(sub_ctx))\n",
      "  File \"C:\\Users\\abhijat_thakare\\Anaconda3\\lib\\site-packages\\click\\core.py\", line 1395, in invoke\n",
      "    return ctx.invoke(self.callback, **ctx.params)\n",
      "  File \"C:\\Users\\abhijat_thakare\\Anaconda3\\lib\\site-packages\\click\\core.py\", line 754, in invoke\n",
      "    return __callback(*args, **kwargs)\n",
      "  File \"C:\\Users\\abhijat_thakare\\Anaconda3\\lib\\site-packages\\typer\\main.py\", line 683, in wrapper\n",
      "    return callback(**use_params)  # type: ignore\n",
      "  File \"C:\\Users\\abhijat_thakare\\Anaconda3\\lib\\site-packages\\spacy\\cli\\train.py\", line 45, in train_cli\n",
      "    train(config_path, output_path, use_gpu=use_gpu, overrides=overrides)\n",
      "  File \"C:\\Users\\abhijat_thakare\\Anaconda3\\lib\\site-packages\\spacy\\cli\\train.py\", line 72, in train\n",
      "    nlp = init_nlp(config, use_gpu=use_gpu)\n",
      "  File \"C:\\Users\\abhijat_thakare\\Anaconda3\\lib\\site-packages\\spacy\\training\\initialize.py\", line 84, in init_nlp\n",
      "    nlp.initialize(lambda: train_corpus(nlp), sgd=optimizer)\n",
      "  File \"C:\\Users\\abhijat_thakare\\Anaconda3\\lib\\site-packages\\spacy\\language.py\", line 1290, in initialize\n",
      "    raise IOError(Errors.E884.format(vectors=I[\"vectors\"]))\n",
      "OSError: [E884] The pipeline could not be initialized because the vectors could not be found at 'en_core_web_lg'. If your pipeline was already initialized/trained before, call 'resume_training' instead of 'initialize', or initialize only the components that are new.\n"
     ]
    },
    {
     "name": "stdout",
     "output_type": "stream",
     "text": [
      "\n",
      "\u001b[38;5;4m[i] Using CPU\u001b[0m\n",
      "\u001b[1m\n",
      "=========================== Initializing pipeline ===========================\u001b[0m\n"
     ]
    }
   ],
   "source": [
    "! python -m spacy train config.cfg --output ./ --paths.train ./training_data.spacy --paths.dev ./training_data.spacy"
   ]
  },
  {
   "cell_type": "code",
   "execution_count": null,
   "id": "462ef4e1",
   "metadata": {},
   "outputs": [],
   "source": []
  }
 ],
 "metadata": {
  "kernelspec": {
   "display_name": "Python 3 (ipykernel)",
   "language": "python",
   "name": "python3"
  },
  "language_info": {
   "codemirror_mode": {
    "name": "ipython",
    "version": 3
   },
   "file_extension": ".py",
   "mimetype": "text/x-python",
   "name": "python",
   "nbconvert_exporter": "python",
   "pygments_lexer": "ipython3",
   "version": "3.9.13"
  }
 },
 "nbformat": 4,
 "nbformat_minor": 5
}
